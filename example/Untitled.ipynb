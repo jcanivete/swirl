{
 "cells": [
  {
   "cell_type": "code",
   "execution_count": 8,
   "metadata": {},
   "outputs": [],
   "source": [
    "# Import packages\n",
    "import numpy as np\n",
    "import matplotlib.pyplot as plt\n",
    "\n",
    "# Import SWIRL code\n",
    "from swirl import SWIRL"
   ]
  },
  {
   "cell_type": "markdown",
   "metadata": {},
   "source": [
    "# Load velocity fields"
   ]
  },
  {
   "cell_type": "code",
   "execution_count": 9,
   "metadata": {},
   "outputs": [],
   "source": [
    "vx = np.load('data/lamboseen_vx.npy')\n",
    "vy = np.load('data/lamboseen_vy.npy')\n",
    "\n",
    "# parameters\n",
    "N = 200\n",
    "dx = 0.005"
   ]
  },
  {
   "cell_type": "markdown",
   "metadata": {},
   "source": [
    "# Initialize a SWIRL instance"
   ]
  },
  {
   "cell_type": "code",
   "execution_count": 11,
   "metadata": {},
   "outputs": [
    {
     "name": "stdout",
     "output_type": "stream",
     "text": [
      "---------------------------------------------------------\n",
      "---                                                   ---\n",
      "---    _/_/_/  _/          _/  _/   _/_/_/    _/      ---\n",
      "---  _/         _/        _/   _/   _/    _/  _/      ---\n",
      "---    _/_/      _/      _/    _/   _/_/_/    _/      ---\n",
      "---        _/     _/ _/ _/     _/   _/  _/    _/      ---\n",
      "---  _/_/_/        _/  _/      _/   _/   _/   _/_/_/  ---\n",
      "---                                                   ---\n",
      "---------------------------------------------------------\n",
      "---------------------------------------------------------\n",
      "---                                                   ---\n",
      "---                   11.04.2022                      ---\n",
      "---                                                   ---\n",
      "--- Author: José Roberto Canivete Cuissa              ---\n",
      "--- Email: jcanivete@ics.uzh.ch                       ---\n",
      "---------------------------------------------------------\n",
      "---\n",
      "--- Parameters:\n",
      "---\n",
      "---    l                : [1]\n",
      "---    S_param          : [0.0, 0.0, 0.0]\n",
      "---    crit             : rortex\n",
      "---    dc_coeff         : 3.0\n",
      "---    dc_adaptive      : True\n",
      "---    fast_clustering  : True\n",
      "---    xi_option        : 2\n",
      "---    clust_selector   : gamma\n",
      "---    clust_options    : [1.0, 0.5, 15.0]\n",
      "---    noise_f          : 1.5\n",
      "---    kink_f           : 1.0\n",
      "---\n",
      "---------------------------------------------------------\n",
      "---\n",
      "---------------------------------------------------------\n",
      "--- Starting identification \n",
      "---------------------------------------------------------\n",
      "---\n",
      "--- Computing criterion\n",
      "--- Computing EVC map\n",
      "--- Clustering\n",
      "--- Detecting vortices\n",
      "---\n",
      "---------------------------------------------------------\n",
      "--- Identification completed \n",
      "---------------------------------------------------------\n",
      "---\n",
      "--- Identified vortices: 2\n",
      "---\n",
      "--- Timings\n",
      "---    Rortex     :    189.225 ms\n",
      "---    EVC map    :    32.229 ms\n",
      "---    Clustering :    301.808 ms\n",
      "---    Detection  :    27.678 ms\n",
      "---    Total      :    553.145 ms\n",
      "---------------------------------------------------------\n",
      "\n",
      "\n"
     ]
    }
   ],
   "source": [
    "# Input\n",
    "v = [vx, vy]\n",
    "\n",
    "# parameters\n",
    "dl = [dx,dx]\n",
    "crit = 'rortex'\n",
    "l=[1]\n",
    "clust_selector='gamma'\n",
    "clust_options = [1.0,0.5,15.0]\n",
    "noise_f = 1.5\n",
    "\n",
    "# Initialize Class instance\n",
    "V = SWIRL(v = v, \n",
    "          dl = dl,\n",
    "          crit = crit,\n",
    "          l=l,\n",
    "          clust_selector = clust_selector,\n",
    "          clust_options = clust_options,\n",
    "          noise_f = noise_f\n",
    "         )\n",
    "\n",
    "# Run identification\n",
    "V.run()"
   ]
  },
  {
   "cell_type": "code",
   "execution_count": null,
   "metadata": {},
   "outputs": [],
   "source": []
  }
 ],
 "metadata": {
  "kernelspec": {
   "display_name": "Python 3",
   "language": "python",
   "name": "python3"
  },
  "language_info": {
   "codemirror_mode": {
    "name": "ipython",
    "version": 3
   },
   "file_extension": ".py",
   "mimetype": "text/x-python",
   "name": "python",
   "nbconvert_exporter": "python",
   "pygments_lexer": "ipython3",
   "version": "3.7.6"
  }
 },
 "nbformat": 4,
 "nbformat_minor": 4
}

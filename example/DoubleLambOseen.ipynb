{
 "cells": [
  {
   "cell_type": "code",
   "execution_count": 1,
   "metadata": {},
   "outputs": [
    {
     "ename": "ImportError",
     "evalue": "cannot import name 'plot_decision' from 'swirl' (/net/cephfs/home/jcaniv/swirl-code/swirl/__init__.py)",
     "output_type": "error",
     "traceback": [
      "\u001b[0;31m---------------------------------------------------------------------------\u001b[0m",
      "\u001b[0;31mImportError\u001b[0m                               Traceback (most recent call last)",
      "\u001b[0;32m<ipython-input-1-89c6151df336>\u001b[0m in \u001b[0;36m<module>\u001b[0;34m\u001b[0m\n\u001b[1;32m      4\u001b[0m \u001b[0;34m\u001b[0m\u001b[0m\n\u001b[1;32m      5\u001b[0m \u001b[0;31m# Import SWIRL code\u001b[0m\u001b[0;34m\u001b[0m\u001b[0;34m\u001b[0m\u001b[0;34m\u001b[0m\u001b[0m\n\u001b[0;32m----> 6\u001b[0;31m \u001b[0;32mfrom\u001b[0m \u001b[0mswirl\u001b[0m \u001b[0;32mimport\u001b[0m \u001b[0mSWIRL\u001b[0m\u001b[0;34m,\u001b[0m \u001b[0mplot_decision\u001b[0m\u001b[0;34m\u001b[0m\u001b[0;34m\u001b[0m\u001b[0m\n\u001b[0m",
      "\u001b[0;31mImportError\u001b[0m: cannot import name 'plot_decision' from 'swirl' (/net/cephfs/home/jcaniv/swirl-code/swirl/__init__.py)"
     ]
    }
   ],
   "source": [
    "# Import packages\n",
    "import numpy as np\n",
    "import matplotlib.pyplot as plt\n",
    "\n",
    "# Import SWIRL code\n",
    "from swirl import SWIRL, plot_decision"
   ]
  },
  {
   "cell_type": "markdown",
   "metadata": {},
   "source": [
    "# Load velocity fields"
   ]
  },
  {
   "cell_type": "code",
   "execution_count": null,
   "metadata": {},
   "outputs": [],
   "source": [
    "vx = np.load('data/lamboseen_vx.npy')\n",
    "vy = np.load('data/lamboseen_vy.npy')\n",
    "\n",
    "# parameters\n",
    "N = 200\n",
    "dx = 0.005"
   ]
  },
  {
   "cell_type": "markdown",
   "metadata": {},
   "source": [
    "# Initialize a SWIRL instance"
   ]
  },
  {
   "cell_type": "code",
   "execution_count": null,
   "metadata": {},
   "outputs": [],
   "source": [
    "# Input\n",
    "v = [vx, vy]\n",
    "\n",
    "# parameters\n",
    "dl = [dx,dx]\n",
    "crit = 'rortex'\n",
    "l=[1]\n",
    "clust_selector='gamma'\n",
    "clust_options = [1.0,0.5,15.0]\n",
    "noise_f = 1.5\n",
    "\n",
    "# Initialize Class instance\n",
    "V = SWIRL(v = v, \n",
    "          dl = dl,\n",
    "          crit = crit,\n",
    "          l=l,\n",
    "          clust_selector = clust_selector,\n",
    "          clust_options = clust_options,\n",
    "          noise_f = noise_f\n",
    "         )\n",
    "\n",
    "# Run identification\n",
    "V.run()"
   ]
  },
  {
   "cell_type": "code",
   "execution_count": null,
   "metadata": {},
   "outputs": [],
   "source": [
    "plot_decision(V)"
   ]
  },
  {
   "cell_type": "code",
   "execution_count": null,
   "metadata": {},
   "outputs": [],
   "source": []
  }
 ],
 "metadata": {
  "kernelspec": {
   "display_name": "Python 3",
   "language": "python",
   "name": "python3"
  }
 },
 "nbformat": 4,
 "nbformat_minor": 4
}
